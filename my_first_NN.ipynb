{
 "cells": [
  {
   "cell_type": "code",
   "execution_count": 132,
   "metadata": {},
   "outputs": [],
   "source": [
    "import torch\n",
    "import torch.nn as nn\n",
    "import torch.nn.functional as F\n",
    "import torch.optim as optim"
   ]
  },
  {
   "cell_type": "code",
   "execution_count": 133,
   "metadata": {},
   "outputs": [],
   "source": [
    "#my first deep neural network with pytorch :D\n",
    "\n",
    "class Net(nn.Module):\n",
    "    \n",
    "    def __init__(self, d_in, d_hidden1, d_hidden2, d_out):\n",
    "        super().__init__()\n",
    "        #self.n_batch = n_batch\n",
    "        self.d_in = d_in\n",
    "        self.d_hidden1 = d_hidden1\n",
    "        self.d_hidden2 = d_hidden2\n",
    "        self.d_out = d_out\n",
    "        \n",
    "        self.fc1 = nn.Linear(self.d_in, self.d_hidden1)\n",
    "        self.fc2 = nn.Linear(self.d_hidden1, self.d_hidden2)\n",
    "        self.fc3 = nn.Linear(self.d_hidden2, self.d_out)\n",
    "        \n",
    "    def forward(self, x):\n",
    "        x = F.relu(self.fc1(x))\n",
    "        x = F.relu(self.fc2(x))\n",
    "        x = F.log_softmax(self.fc3(x), dim=1)\n",
    "        return x\n",
    "    \n",
    "net = Net(784,256,128,10)\n",
    "\n",
    "\n"
   ]
  },
  {
   "cell_type": "code",
   "execution_count": 134,
   "metadata": {},
   "outputs": [],
   "source": [
    "#loading the data\n",
    "\n",
    "from torchvision import datasets, transforms\n",
    "\n",
    "# defineing a transformation to normalize the data\n",
    "transform = transforms.Compose([transforms.ToTensor(),\n",
    "                              transforms.Normalize((0.5,), (0.5,)),\n",
    "                              ])\n",
    "\n",
    "# downloading and loading the training data\n",
    "trainset = datasets.MNIST('~/.pytorch/MNIST_data/', download=True, train=True, transform=transform)\n",
    "trainloader = torch.utils.data.DataLoader(trainset, batch_size=64, shuffle=True)\n",
    "\n",
    "\n",
    "#specifying some variables\n",
    "n_epochs = 30\n",
    "n_batches = 64\n",
    "\n",
    "#defining the loss fn and the optimizer\n",
    "criterion = nn.NLLLoss()\n",
    "optimizer = optim.Adam(net.parameters(), lr=0.001)\n",
    "\n",
    "#initializing lists to track batch and epoch losses\n",
    "batch_losses = []\n",
    "epoch_losses = []\n",
    "\n",
    "#training of the neural network\n",
    "for epoch in range(n_epochs):\n",
    "    \n",
    "    #initialize running epoch loss to zero\n",
    "    running_epoch_loss = 0\n",
    "    \n",
    "    #reset iterator\n",
    "    dataiter = iter(trainloader)\n",
    "    \n",
    "    for batch in range(n_batches):\n",
    "        #forwarding iterator to next batch of training images\n",
    "        images, labels = dataiter.next()\n",
    "        \n",
    "        #flattening tensor to an 64x784 tensor\n",
    "        images = images.view(64,-1)    \n",
    "        \n",
    "        #using the Adam optimizer\n",
    "        optimizer.zero_grad()\n",
    "        \n",
    "        #forword propagation through the network\n",
    "        out = net(images)\n",
    "        loss = criterion(out, labels)\n",
    "        \n",
    "        #tracking batch losses\n",
    "        batch_losses.append(loss.item())\n",
    "        \n",
    "        #update running batch loss\n",
    "        running_epoch_loss += loss\n",
    "        \n",
    "        #backpropagation\n",
    "        loss.backward()\n",
    "        \n",
    "        #updating the parameters\n",
    "        optimizer.step()\n",
    "        \n",
    "    #tracking epoch losses\n",
    "    epoch_losses.append(running_epoch_loss)\n",
    "\n",
    "PATH = './minst_net.pth'\n",
    "torch.save(net.state_dict(), PATH)"
   ]
  },
  {
   "cell_type": "code",
   "execution_count": 135,
   "metadata": {
    "scrolled": true
   },
   "outputs": [
    {
     "data": {
      "text/plain": [
       "<matplotlib.axes._subplots.AxesSubplot at 0x2348bb21a48>"
      ]
     },
     "execution_count": 135,
     "metadata": {},
     "output_type": "execute_result"
    },
    {
     "data": {
      "image/png": "[encoded data removed]",
      "text/plain": [
       "<Figure size 432x288 with 1 Axes>"
      ]
     },
     "metadata": {
      "needs_background": "light"
     },
     "output_type": "display_data"
    }
   ],
   "source": [
    "import seaborn as sns\n",
    "from matplotlib import pyplot as plt\n",
    "\n",
    "#sns.scatterplot(y=batch_losses, x=range(len(batch_losses)))\n",
    "sns.scatterplot(y=epoch_losses, x=range(len(epoch_losses)))"
   ]
  },
  {
   "cell_type": "code",
   "execution_count": 187,
   "metadata": {},
   "outputs": [
    {
     "name": "stdout",
     "output_type": "stream",
     "text": [
      "0.9375\n",
      "Accuracy of the network on the 64 test images: 93 %\n"
     ]
    }
   ],
   "source": [
    "correct = 0\n",
    "total = 0\n",
    "\n",
    "from torchvision import datasets, transforms\n",
    "\n",
    "# defineing a transformation to normalize the data\n",
    "transform = transforms.Compose([transforms.ToTensor(),\n",
    "                              transforms.Normalize((0.5,), (0.5,)),\n",
    "                              ])\n",
    "\n",
    "# downloading and loading the training data\n",
    "trainset = datasets.MNIST('~/.pytorch/MNIST_data/', download=True, train=False, transform=transform)\n",
    "trainloader = torch.utils.data.DataLoader(trainset, batch_size=64, shuffle=True)\n",
    "\n",
    "n_batches = 1\n",
    "\n",
    "with torch.no_grad():\n",
    "    for batch in range(n_batches):\n",
    "        images, labels = dataiter.next()\n",
    "        \n",
    "        out = net(images.view(labels.size(0),-1))\n",
    "        ps = torch.exp(out)\n",
    "        \n",
    "        _, predicted = ps.topk(1, dim=1)\n",
    "                \n",
    "        total += labels.size(0)\n",
    "        #correct += (predicted == labels.view(*predicted.shape)).sum().item()\n",
    "        \n",
    "        equals = (predicted == labels.view(*predicted.shape))\n",
    "        accuracy = torch.mean(equals.type(torch.FloatTensor))\n",
    "        print(accuracy.item())\n",
    "        \n",
    "print('Accuracy of the network on the %d test images: %d %%' % (n_batches*labels.size(0),\n",
    "    accuracy*100))"
   ]
  },
  {
   "cell_type": "code",
   "execution_count": 147,
   "metadata": {},
   "outputs": [
    {
     "data": {
      "text/plain": [
       "False"
      ]
     },
     "execution_count": 147,
     "metadata": {},
     "output_type": "execute_result"
    }
   ],
   "source": [
    "torch.cuda.is_available() # '-'"
   ]
  }
 ],
 "metadata": {
  "kernelspec": {
   "display_name": "Python 3",
   "language": "python",
   "name": "python3"
  },
  "language_info": {
   "codemirror_mode": {
    "name": "ipython",
    "version": 3
   },
   "file_extension": ".py",
   "mimetype": "text/x-python",
   "name": "python",
   "nbconvert_exporter": "python",
   "pygments_lexer": "ipython3",
   "version": "3.7.4"
  }
 },
 "nbformat": 4,
 "nbformat_minor": 2
}
