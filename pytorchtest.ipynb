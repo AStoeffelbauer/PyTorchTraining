{
 "cells": [
  {
   "cell_type": "code",
   "execution_count": 64,
   "metadata": {},
   "outputs": [
    {
     "name": "stdout",
     "output_type": "stream",
     "text": [
      "tensor([[-0.7018],\n",
      "        [ 0.9822]], grad_fn=<AddBackward0>)\n",
      "tensor([[0.3314],\n",
      "        [0.7275]], grad_fn=<SigmoidBackward>)\n",
      "Loss: tensor(1.0621, grad_fn=<BinaryCrossEntropyBackward>)\n"
     ]
    },
    {
     "name": "stderr",
     "output_type": "stream",
     "text": [
      "c:\\users\\andreas stöffelbauer\\appdata\\local\\programs\\python\\python37\\lib\\site-packages\\ipykernel_launcher.py:20: UserWarning: Using a target size (torch.Size([2])) that is different to the input size (torch.Size([2, 1])) is deprecated. Please ensure they have the same size.\n"
     ]
    }
   ],
   "source": [
    "import torch\n",
    "import torch.nn as nn\n",
    "import torch.nn.functional as F\n",
    "\n",
    "\n",
    "torch.manual_seed(46)\n",
    "\n",
    "W = torch.randn(2,2, requires_grad=True)\n",
    "b = torch.randn(2,1, requires_grad=True)\n",
    "\n",
    "x, y = torch.randn(2,1, requires_grad=True), torch.Tensor([2,1])\n",
    "\n",
    "\n",
    "z = W.mm(x) + b\n",
    "print(z)\n",
    "\n",
    "a = F.sigmoid(z)\n",
    "print(a)\n",
    "\n",
    "loss = F.binary_cross_entropy(a,y)\n",
    "print(\"Loss:\", loss)"
   ]
  },
  {
   "cell_type": "code",
   "execution_count": 65,
   "metadata": {},
   "outputs": [],
   "source": [
    "loss.backward()"
   ]
  },
  {
   "cell_type": "code",
   "execution_count": 66,
   "metadata": {},
   "outputs": [
    {
     "name": "stdout",
     "output_type": "stream",
     "text": [
      "tensor([[-0.1276,  0.5147],\n",
      "        [ 1.2062,  0.3087]], grad_fn=<SubBackward0>)\n",
      "tensor([[0.4726],\n",
      "        [1.0136]], grad_fn=<SubBackward0>)\n",
      "Loss: tensor(1.0227, grad_fn=<BinaryCrossEntropyBackward>)\n"
     ]
    },
    {
     "name": "stderr",
     "output_type": "stream",
     "text": [
      "c:\\users\\andreas stöffelbauer\\appdata\\local\\programs\\python\\python37\\lib\\site-packages\\ipykernel_launcher.py:11: UserWarning: Using a target size (torch.Size([2])) that is different to the input size (torch.Size([2, 1])) is deprecated. Please ensure they have the same size.\n",
      "  # This is added back by InteractiveShellApp.init_path()\n"
     ]
    }
   ],
   "source": [
    "alpha = .01\n",
    "\n",
    "W = W - alpha*W.grad\n",
    "print(W)\n",
    "\n",
    "b = b - alpha*b.grad\n",
    "print(b)\n",
    "\n",
    "z = W.mm(x) + b\n",
    "a = F.sigmoid(z)\n",
    "loss = F.binary_cross_entropy(a,y)\n",
    "print(\"Loss:\", loss)"
   ]
  },
  {
   "cell_type": "code",
   "execution_count": 60,
   "metadata": {},
   "outputs": [
    {
     "data": {
      "text/plain": [
       "tensor([[-0.1276,  0.5147],\n",
       "        [ 1.2062,  0.3087]], grad_fn=<SubBackward0>)"
      ]
     },
     "execution_count": 60,
     "metadata": {},
     "output_type": "execute_result"
    }
   ],
   "source": [
    "W.size()\n",
    "W.view(-1,1)\n"
   ]
  },
  {
   "cell_type": "code",
   "execution_count": 266,
   "metadata": {},
   "outputs": [],
   "source": [
    "\n",
    "\n",
    "class Net(nn.Module):\n",
    "    \n",
    "    def __init__(self, d_in, d_hidden1, d_hidden2, d_out):\n",
    "        super().__init__()\n",
    "        #self.n_batch = n_batch\n",
    "        self.d_in = d_in\n",
    "        self.d_hidden1 = d_hidden1\n",
    "        self.d_hidden2 = d_hidden2\n",
    "        self.d_out = d_out\n",
    "        \n",
    "        self.fc1 = nn.Linear(self.d_in, self.d_hidden1)\n",
    "        self.fc2 = nn.Linear(self.d_hidden1, self.d_hidden2)\n",
    "        self.fc3 = nn.Linear(self.d_hidden2, self.d_out)\n",
    "        \n",
    "    def forward(self, x):\n",
    "        x = F.relu(self.fc1(x))\n",
    "        x = F.relu(self.fc2(x))\n",
    "        x = F.softmax(self.fc3(x))\n",
    "        return x\n",
    "        \n",
    "     \n",
    "        "
   ]
  },
  {
   "cell_type": "code",
   "execution_count": 294,
   "metadata": {},
   "outputs": [
    {
     "name": "stdout",
     "output_type": "stream",
     "text": [
      "torch.Size([1, 10])\n",
      "tensor([[0.0754, 0.1276, 0.0830, 0.0951, 0.0940, 0.1104, 0.1027, 0.0947, 0.1116,\n",
      "         0.1055],\n",
      "        [0.0916, 0.1009, 0.0919, 0.0905, 0.0877, 0.1161, 0.1043, 0.1027, 0.1188,\n",
      "         0.0956]], grad_fn=<SoftmaxBackward>)\n"
     ]
    },
    {
     "name": "stderr",
     "output_type": "stream",
     "text": [
      "c:\\users\\andreas stöffelbauer\\appdata\\local\\programs\\python\\python37\\lib\\site-packages\\ipykernel_launcher.py:18: UserWarning: Implicit dimension choice for softmax has been deprecated. Change the call to include dim=X as an argument.\n",
      "c:\\users\\andreas stöffelbauer\\appdata\\local\\programs\\python\\python37\\lib\\site-packages\\ipykernel_launcher.py:13: UserWarning: Using a target size (torch.Size([1, 10])) that is different to the input size (torch.Size([2, 10])). This will likely lead to incorrect results due to broadcasting. Please ensure they have the same size.\n",
      "  del sys.path[0]\n"
     ]
    },
    {
     "data": {
      "text/plain": [
       "tensor(1.1034, grad_fn=<SumBackward0>)"
      ]
     },
     "execution_count": 294,
     "metadata": {},
     "output_type": "execute_result"
    }
   ],
   "source": [
    "torch.manual_seed(9877)\n",
    "\n",
    "net = Net(784,128,64,10)\n",
    "\n",
    "x = torch.randn(2,784)\n",
    "y = torch.randn(1,10)\n",
    "\n",
    "print(y.shape)\n",
    "out = net(x)\n",
    "print(out)\n",
    "\n",
    "\n",
    "F.mse_loss(out,y).sum()"
   ]
  },
  {
   "cell_type": "code",
   "execution_count": 242,
   "metadata": {},
   "outputs": [
    {
     "name": "stdout",
     "output_type": "stream",
     "text": [
      "Downloading http://yann.lecun.com/exdb/mnist/train-images-idx3-ubyte.gz to C:\\Users\\Andreas Stöffelbauer/.pytorch/MNIST_data/MNIST\\raw\\train-images-idx3-ubyte.gz\n"
     ]
    },
    {
     "name": "stderr",
     "output_type": "stream",
     "text": [
      "100.1%"
     ]
    },
    {
     "name": "stdout",
     "output_type": "stream",
     "text": [
      "Extracting C:\\Users\\Andreas Stöffelbauer/.pytorch/MNIST_data/MNIST\\raw\\train-images-idx3-ubyte.gz to C:\\Users\\Andreas Stöffelbauer/.pytorch/MNIST_data/MNIST\\raw\n",
      "Downloading http://yann.lecun.com/exdb/mnist/train-labels-idx1-ubyte.gz to C:\\Users\\Andreas Stöffelbauer/.pytorch/MNIST_data/MNIST\\raw\\train-labels-idx1-ubyte.gz\n"
     ]
    },
    {
     "name": "stderr",
     "output_type": "stream",
     "text": [
      "113.5%"
     ]
    },
    {
     "name": "stdout",
     "output_type": "stream",
     "text": [
      "Extracting C:\\Users\\Andreas Stöffelbauer/.pytorch/MNIST_data/MNIST\\raw\\train-labels-idx1-ubyte.gz to C:\\Users\\Andreas Stöffelbauer/.pytorch/MNIST_data/MNIST\\raw\n",
      "Downloading http://yann.lecun.com/exdb/mnist/t10k-images-idx3-ubyte.gz to C:\\Users\\Andreas Stöffelbauer/.pytorch/MNIST_data/MNIST\\raw\\t10k-images-idx3-ubyte.gz\n"
     ]
    },
    {
     "name": "stderr",
     "output_type": "stream",
     "text": [
      "100.4%"
     ]
    },
    {
     "name": "stdout",
     "output_type": "stream",
     "text": [
      "Extracting C:\\Users\\Andreas Stöffelbauer/.pytorch/MNIST_data/MNIST\\raw\\t10k-images-idx3-ubyte.gz to C:\\Users\\Andreas Stöffelbauer/.pytorch/MNIST_data/MNIST\\raw\n",
      "Downloading http://yann.lecun.com/exdb/mnist/t10k-labels-idx1-ubyte.gz to C:\\Users\\Andreas Stöffelbauer/.pytorch/MNIST_data/MNIST\\raw\\t10k-labels-idx1-ubyte.gz\n"
     ]
    },
    {
     "name": "stderr",
     "output_type": "stream",
     "text": [
      "180.4%"
     ]
    },
    {
     "name": "stdout",
     "output_type": "stream",
     "text": [
      "Extracting C:\\Users\\Andreas Stöffelbauer/.pytorch/MNIST_data/MNIST\\raw\\t10k-labels-idx1-ubyte.gz to C:\\Users\\Andreas Stöffelbauer/.pytorch/MNIST_data/MNIST\\raw\n",
      "Processing...\n",
      "Done!\n"
     ]
    }
   ],
   "source": [
    "### Run this cell\n",
    "\n",
    "from torchvision import datasets, transforms\n",
    "\n",
    "# Define a transform to normalize the data\n",
    "transform = transforms.Compose([transforms.ToTensor(),\n",
    "                              transforms.Normalize((0.5,), (0.5,)),\n",
    "                              ])\n",
    "# Download and load the training data\n",
    "trainset = datasets.MNIST('~/.pytorch/MNIST_data/', download=True, train=True, transform=transform)\n",
    "trainloader = torch.utils.data.DataLoader(trainset, batch_size=64, shuffle=True)"
   ]
  },
  {
   "cell_type": "code",
   "execution_count": 258,
   "metadata": {},
   "outputs": [
    {
     "name": "stdout",
     "output_type": "stream",
     "text": [
      "<class 'torch.Tensor'>\n",
      "torch.Size([64, 1, 28, 28])\n",
      "torch.Size([64])\n"
     ]
    }
   ],
   "source": [
    "dataiter = iter(trainloader)\n",
    "images, labels = dataiter.next()\n",
    "print(type(images))\n",
    "print(images.shape)\n",
    "print(labels.shape)"
   ]
  },
  {
   "cell_type": "code",
   "execution_count": 259,
   "metadata": {},
   "outputs": [
    {
     "data": {
      "text/plain": [
       "tensor([9, 9, 9, 1, 1, 2, 8, 1, 9, 9, 1, 6, 0, 3, 9, 6, 6, 1, 0, 0, 3, 5, 7, 4,\n",
       "        4, 1, 2, 9, 1, 0, 0, 6, 1, 7, 7, 5, 7, 3, 1, 6, 2, 0, 6, 8, 8, 4, 5, 8,\n",
       "        5, 4, 3, 4, 7, 6, 3, 8, 3, 6, 3, 8, 7, 1, 1, 0])"
      ]
     },
     "execution_count": 259,
     "metadata": {},
     "output_type": "execute_result"
    }
   ],
   "source": []
  }
 ],
 "metadata": {
  "kernelspec": {
   "display_name": "Python 3",
   "language": "python",
   "name": "python3"
  },
  "language_info": {
   "codemirror_mode": {
    "name": "ipython",
    "version": 3
   },
   "file_extension": ".py",
   "mimetype": "text/x-python",
   "name": "python",
   "nbconvert_exporter": "python",
   "pygments_lexer": "ipython3",
   "version": "3.7.4"
  }
 },
 "nbformat": 4,
 "nbformat_minor": 2
}
